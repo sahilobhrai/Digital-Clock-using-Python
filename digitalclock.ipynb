{
 "cells": [
  {
   "cell_type": "code",
   "execution_count": 9,
   "id": "7849ea0d",
   "metadata": {},
   "outputs": [],
   "source": [
    "#libraries\n",
    "from tkinter import *\n",
    "from tkinter.ttk import *\n",
    "from time import strftime\n",
    "root = Tk()\n",
    "root.title(\"Clock\")     #title\n",
    "def time():\n",
    "    string = strftime('%H : %M : %S %p')   #format\n",
    "    label.config(text=string)\n",
    "    label.after(1000,time)                 #time after which time() is called\n",
    "label = Label(root ,font=(\"DS-DIGIT\",90),background = \"black\", foreground = \"cyan\")   #designing of clock format\n",
    "label.pack(anchor=\"center\")                #allignment\n",
    "time()\n",
    "mainloop()"
   ]
  }
 ],
 "metadata": {
  "kernelspec": {
   "display_name": "Python 3",
   "language": "python",
   "name": "python3"
  },
  "language_info": {
   "codemirror_mode": {
    "name": "ipython",
    "version": 3
   },
   "file_extension": ".py",
   "mimetype": "text/x-python",
   "name": "python",
   "nbconvert_exporter": "python",
   "pygments_lexer": "ipython3",
   "version": "3.8.8"
  }
 },
 "nbformat": 4,
 "nbformat_minor": 5
}
